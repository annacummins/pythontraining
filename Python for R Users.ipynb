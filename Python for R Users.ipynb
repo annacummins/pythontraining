{
 "cells": [
  {
   "cell_type": "markdown",
   "metadata": {
    "collapsed": true
   },
   "source": [
    "#  Set up & load data"
   ]
  },
  {
   "cell_type": "code",
   "execution_count": 1,
   "metadata": {
    "collapsed": true
   },
   "outputs": [],
   "source": [
    "import pandas as pd\n",
    "import numpy as np\n",
    "import matplotlib.pyplot as plt\n",
    "import seaborn as sns\n",
    "sns.set(style=\"darkgrid\")\n",
    "\n",
    "# Data set of Fortune 500 companies spanning over 50 years since the list’s first publication in 1955, put together from Fortune’s public archive\n",
    "df = pd.read_csv('https://s3.amazonaws.com/dq-blog-files/fortune500.csv')\n",
    "\n"
   ]
  },
  {
   "cell_type": "markdown",
   "metadata": {},
   "source": [
    "# Data manipulation"
   ]
  },
  {
   "cell_type": "markdown",
   "metadata": {},
   "source": [
    "## View data"
   ]
  },
  {
   "cell_type": "code",
   "execution_count": 2,
   "metadata": {},
   "outputs": [
    {
     "name": "stdout",
     "output_type": "stream",
     "text": [
      "<class 'pandas.core.frame.DataFrame'>\n",
      "RangeIndex: 25500 entries, 0 to 25499\n",
      "Data columns (total 5 columns):\n",
      "Year                     25500 non-null int64\n",
      "Rank                     25500 non-null int64\n",
      "Company                  25500 non-null object\n",
      "Revenue (in millions)    25500 non-null float64\n",
      "Profit (in millions)     25500 non-null object\n",
      "dtypes: float64(1), int64(2), object(2)\n",
      "memory usage: 996.2+ KB\n"
     ]
    }
   ],
   "source": [
    "df.info() # df.dtypes() # df.describe # df.head()"
   ]
  },
  {
   "cell_type": "markdown",
   "metadata": {},
   "source": [
    "## Rename columns "
   ]
  },
  {
   "cell_type": "code",
   "execution_count": 3,
   "metadata": {
    "collapsed": true
   },
   "outputs": [],
   "source": [
    "# rename columns\n",
    "df.columns = ['year', 'rank', 'company', 'revenue', 'profit']\n",
    "\n",
    "# rename revenue column to 'revenue_usd' \n",
    "\n"
   ]
  },
  {
   "cell_type": "markdown",
   "metadata": {},
   "source": [
    "## Set indices "
   ]
  },
  {
   "cell_type": "code",
   "execution_count": 4,
   "metadata": {
    "scrolled": true
   },
   "outputs": [
    {
     "data": {
      "text/html": [
       "<div>\n",
       "<style>\n",
       "    .dataframe thead tr:only-child th {\n",
       "        text-align: right;\n",
       "    }\n",
       "\n",
       "    .dataframe thead th {\n",
       "        text-align: left;\n",
       "    }\n",
       "\n",
       "    .dataframe tbody tr th {\n",
       "        vertical-align: top;\n",
       "    }\n",
       "</style>\n",
       "<table border=\"1\" class=\"dataframe\">\n",
       "  <thead>\n",
       "    <tr style=\"text-align: right;\">\n",
       "      <th></th>\n",
       "      <th></th>\n",
       "      <th>company</th>\n",
       "      <th>revenue</th>\n",
       "      <th>profit</th>\n",
       "    </tr>\n",
       "    <tr>\n",
       "      <th>year</th>\n",
       "      <th>rank</th>\n",
       "      <th></th>\n",
       "      <th></th>\n",
       "      <th></th>\n",
       "    </tr>\n",
       "  </thead>\n",
       "  <tbody>\n",
       "    <tr>\n",
       "      <th rowspan=\"5\" valign=\"top\">1955</th>\n",
       "      <th>1</th>\n",
       "      <td>General Motors</td>\n",
       "      <td>9823.5</td>\n",
       "      <td>806</td>\n",
       "    </tr>\n",
       "    <tr>\n",
       "      <th>2</th>\n",
       "      <td>Exxon Mobil</td>\n",
       "      <td>5661.4</td>\n",
       "      <td>584.8</td>\n",
       "    </tr>\n",
       "    <tr>\n",
       "      <th>3</th>\n",
       "      <td>U.S. Steel</td>\n",
       "      <td>3250.4</td>\n",
       "      <td>195.4</td>\n",
       "    </tr>\n",
       "    <tr>\n",
       "      <th>4</th>\n",
       "      <td>General Electric</td>\n",
       "      <td>2959.1</td>\n",
       "      <td>212.6</td>\n",
       "    </tr>\n",
       "    <tr>\n",
       "      <th>5</th>\n",
       "      <td>Esmark</td>\n",
       "      <td>2510.8</td>\n",
       "      <td>19.1</td>\n",
       "    </tr>\n",
       "  </tbody>\n",
       "</table>\n",
       "</div>"
      ],
      "text/plain": [
       "                    company  revenue profit\n",
       "year rank                                  \n",
       "1955 1       General Motors   9823.5    806\n",
       "     2          Exxon Mobil   5661.4  584.8\n",
       "     3           U.S. Steel   3250.4  195.4\n",
       "     4     General Electric   2959.1  212.6\n",
       "     5               Esmark   2510.8   19.1"
      ]
     },
     "execution_count": 4,
     "metadata": {},
     "output_type": "execute_result"
    }
   ],
   "source": [
    "df_idx = df.set_index(['year', 'rank'])\n",
    "# view data\n",
    "df_idx.head()"
   ]
  },
  {
   "cell_type": "markdown",
   "metadata": {},
   "source": [
    "# Missing values"
   ]
  },
  {
   "cell_type": "code",
   "execution_count": 5,
   "metadata": {},
   "outputs": [
    {
     "name": "stdout",
     "output_type": "stream",
     "text": [
      "year       0\n",
      "rank       0\n",
      "company    0\n",
      "revenue    0\n",
      "profit     0\n",
      "dtype: int64\n"
     ]
    }
   ],
   "source": [
    "# a check to see if there are missing values in dataframe\n",
    "print(df.isnull().sum())\n",
    "\n",
    "# to remove na's \n",
    "#df = df.dropna()"
   ]
  },
  {
   "cell_type": "markdown",
   "metadata": {},
   "source": [
    "## Change data types "
   ]
  },
  {
   "cell_type": "code",
   "execution_count": 6,
   "metadata": {
    "collapsed": true
   },
   "outputs": [],
   "source": [
    "# fix data type for profit - should be numeric\n",
    "\n",
    "# remove the rows with missing values  \n",
    "non_numeric = df.profit.str.contains('[^0-9.-]')\n",
    "df = df.loc[~non_numeric]\n",
    "\n",
    "# Convert the profit column to numeric\n",
    "df.profit = df.profit.apply(pd.to_numeric)"
   ]
  },
  {
   "cell_type": "markdown",
   "metadata": {},
   "source": [
    "## Change variables"
   ]
  },
  {
   "cell_type": "code",
   "execution_count": 8,
   "metadata": {
    "collapsed": true
   },
   "outputs": [],
   "source": [
    "# rename a company using replace function\n",
    "## change the name of American Financial Grp. to American Financial Group using the dictionary\n",
    "df['company'] = df['company'].replace({'General Electric' : 'GE'})"
   ]
  },
  {
   "cell_type": "markdown",
   "metadata": {},
   "source": [
    "## Adding columns "
   ]
  },
  {
   "cell_type": "code",
   "execution_count": 9,
   "metadata": {},
   "outputs": [
    {
     "data": {
      "text/plain": [
       "0    1955-1\n",
       "1    1955-2\n",
       "2    1955-3\n",
       "3    1955-4\n",
       "4    1955-5\n",
       "Name: year_rank, dtype: object"
      ]
     },
     "execution_count": 9,
     "metadata": {},
     "output_type": "execute_result"
    }
   ],
   "source": [
    "# add column \n",
    "df['year_rank'] = df['year'].astype(str) + '-' + df['rank'].astype(str)\n",
    "df.year_rank.head()\n",
    "\n",
    "# add new column for average monthly profit\n",
    "\n"
   ]
  },
  {
   "cell_type": "markdown",
   "metadata": {},
   "source": [
    "# Filtering a dataframe"
   ]
  },
  {
   "cell_type": "code",
   "execution_count": 10,
   "metadata": {},
   "outputs": [
    {
     "data": {
      "text/html": [
       "<div>\n",
       "<style>\n",
       "    .dataframe thead tr:only-child th {\n",
       "        text-align: right;\n",
       "    }\n",
       "\n",
       "    .dataframe thead th {\n",
       "        text-align: left;\n",
       "    }\n",
       "\n",
       "    .dataframe tbody tr th {\n",
       "        vertical-align: top;\n",
       "    }\n",
       "</style>\n",
       "<table border=\"1\" class=\"dataframe\">\n",
       "  <thead>\n",
       "    <tr style=\"text-align: right;\">\n",
       "      <th></th>\n",
       "      <th>year</th>\n",
       "      <th>rank</th>\n",
       "      <th>company</th>\n",
       "      <th>revenue</th>\n",
       "      <th>profit</th>\n",
       "      <th>year_rank</th>\n",
       "    </tr>\n",
       "  </thead>\n",
       "  <tbody>\n",
       "    <tr>\n",
       "      <th>12504</th>\n",
       "      <td>1980</td>\n",
       "      <td>5</td>\n",
       "      <td>Texaco</td>\n",
       "      <td>38350.4</td>\n",
       "      <td>1759.1</td>\n",
       "      <td>1980-5</td>\n",
       "    </tr>\n",
       "  </tbody>\n",
       "</table>\n",
       "</div>"
      ],
      "text/plain": [
       "       year  rank company  revenue  profit year_rank\n",
       "12504  1980     5  Texaco  38350.4  1759.1    1980-5"
      ]
     },
     "execution_count": 10,
     "metadata": {},
     "output_type": "execute_result"
    }
   ],
   "source": [
    "\n",
    "# find Texaco records for year 1980\n",
    "df[(df.year == 1980) & (df.company == \"Texaco\")]\n",
    "\n",
    "# find all companies with profit over $10bn since 1995\n",
    "\n"
   ]
  },
  {
   "cell_type": "markdown",
   "metadata": {},
   "source": [
    "## Summarising data "
   ]
  },
  {
   "cell_type": "markdown",
   "metadata": {},
   "source": [
    "### Rearrange to view profits for each year"
   ]
  },
  {
   "cell_type": "code",
   "execution_count": 12,
   "metadata": {},
   "outputs": [
    {
     "data": {
      "text/html": [
       "<div>\n",
       "<style>\n",
       "    .dataframe thead tr:only-child th {\n",
       "        text-align: right;\n",
       "    }\n",
       "\n",
       "    .dataframe thead th {\n",
       "        text-align: left;\n",
       "    }\n",
       "\n",
       "    .dataframe tbody tr th {\n",
       "        vertical-align: top;\n",
       "    }\n",
       "</style>\n",
       "<table border=\"1\" class=\"dataframe\">\n",
       "  <thead>\n",
       "    <tr style=\"text-align: right;\">\n",
       "      <th>rank</th>\n",
       "      <th>1</th>\n",
       "      <th>2</th>\n",
       "      <th>3</th>\n",
       "      <th>4</th>\n",
       "      <th>5</th>\n",
       "      <th>6</th>\n",
       "      <th>7</th>\n",
       "      <th>8</th>\n",
       "      <th>9</th>\n",
       "      <th>10</th>\n",
       "      <th>...</th>\n",
       "      <th>491</th>\n",
       "      <th>492</th>\n",
       "      <th>493</th>\n",
       "      <th>494</th>\n",
       "      <th>495</th>\n",
       "      <th>496</th>\n",
       "      <th>497</th>\n",
       "      <th>498</th>\n",
       "      <th>499</th>\n",
       "      <th>500</th>\n",
       "    </tr>\n",
       "    <tr>\n",
       "      <th>year</th>\n",
       "      <th></th>\n",
       "      <th></th>\n",
       "      <th></th>\n",
       "      <th></th>\n",
       "      <th></th>\n",
       "      <th></th>\n",
       "      <th></th>\n",
       "      <th></th>\n",
       "      <th></th>\n",
       "      <th></th>\n",
       "      <th></th>\n",
       "      <th></th>\n",
       "      <th></th>\n",
       "      <th></th>\n",
       "      <th></th>\n",
       "      <th></th>\n",
       "      <th></th>\n",
       "      <th></th>\n",
       "      <th></th>\n",
       "      <th></th>\n",
       "      <th></th>\n",
       "    </tr>\n",
       "  </thead>\n",
       "  <tbody>\n",
       "    <tr>\n",
       "      <th>1955</th>\n",
       "      <td>806.0</td>\n",
       "      <td>584.8</td>\n",
       "      <td>195.4</td>\n",
       "      <td>212.6</td>\n",
       "      <td>19.1</td>\n",
       "      <td>18.5</td>\n",
       "      <td>1.6</td>\n",
       "      <td>182.8</td>\n",
       "      <td>183.8</td>\n",
       "      <td>344.4</td>\n",
       "      <td>...</td>\n",
       "      <td>2.5</td>\n",
       "      <td>0.9</td>\n",
       "      <td>1.7</td>\n",
       "      <td>4.3</td>\n",
       "      <td>3.4</td>\n",
       "      <td>9.3</td>\n",
       "      <td>4.8</td>\n",
       "      <td>0.7</td>\n",
       "      <td>-2.7</td>\n",
       "      <td>0.9</td>\n",
       "    </tr>\n",
       "    <tr>\n",
       "      <th>1956</th>\n",
       "      <td>1189.5</td>\n",
       "      <td>709.3</td>\n",
       "      <td>437.0</td>\n",
       "      <td>370.1</td>\n",
       "      <td>100.1</td>\n",
       "      <td>200.9</td>\n",
       "      <td>22.9</td>\n",
       "      <td>180.2</td>\n",
       "      <td>10.1</td>\n",
       "      <td>431.6</td>\n",
       "      <td>...</td>\n",
       "      <td>1.3</td>\n",
       "      <td>6.1</td>\n",
       "      <td>9.6</td>\n",
       "      <td>7.0</td>\n",
       "      <td>5.0</td>\n",
       "      <td>3.8</td>\n",
       "      <td>2.2</td>\n",
       "      <td>2.2</td>\n",
       "      <td>2.3</td>\n",
       "      <td>2.9</td>\n",
       "    </tr>\n",
       "    <tr>\n",
       "      <th>1957</th>\n",
       "      <td>847.4</td>\n",
       "      <td>808.5</td>\n",
       "      <td>236.6</td>\n",
       "      <td>348.1</td>\n",
       "      <td>213.8</td>\n",
       "      <td>249.5</td>\n",
       "      <td>20.0</td>\n",
       "      <td>14.0</td>\n",
       "      <td>81.0</td>\n",
       "      <td>282.7</td>\n",
       "      <td>...</td>\n",
       "      <td>0.6</td>\n",
       "      <td>1.7</td>\n",
       "      <td>4.6</td>\n",
       "      <td>5.8</td>\n",
       "      <td>1.4</td>\n",
       "      <td>1.4</td>\n",
       "      <td>7.2</td>\n",
       "      <td>4.8</td>\n",
       "      <td>6.0</td>\n",
       "      <td>5.7</td>\n",
       "    </tr>\n",
       "    <tr>\n",
       "      <th>1958</th>\n",
       "      <td>843.6</td>\n",
       "      <td>805.2</td>\n",
       "      <td>282.8</td>\n",
       "      <td>419.4</td>\n",
       "      <td>247.9</td>\n",
       "      <td>120.0</td>\n",
       "      <td>220.4</td>\n",
       "      <td>354.3</td>\n",
       "      <td>191.0</td>\n",
       "      <td>13.5</td>\n",
       "      <td>...</td>\n",
       "      <td>-3.3</td>\n",
       "      <td>2.4</td>\n",
       "      <td>1.4</td>\n",
       "      <td>2.4</td>\n",
       "      <td>3.1</td>\n",
       "      <td>1.3</td>\n",
       "      <td>0.6</td>\n",
       "      <td>1.9</td>\n",
       "      <td>3.1</td>\n",
       "      <td>1.3</td>\n",
       "    </tr>\n",
       "    <tr>\n",
       "      <th>1959</th>\n",
       "      <td>633.6</td>\n",
       "      <td>562.5</td>\n",
       "      <td>95.7</td>\n",
       "      <td>242.9</td>\n",
       "      <td>301.6</td>\n",
       "      <td>156.8</td>\n",
       "      <td>329.5</td>\n",
       "      <td>10.0</td>\n",
       "      <td>310.2</td>\n",
       "      <td>85.9</td>\n",
       "      <td>...</td>\n",
       "      <td>3.7</td>\n",
       "      <td>NaN</td>\n",
       "      <td>2.7</td>\n",
       "      <td>2.8</td>\n",
       "      <td>4.0</td>\n",
       "      <td>2.5</td>\n",
       "      <td>3.0</td>\n",
       "      <td>2.2</td>\n",
       "      <td>-5.0</td>\n",
       "      <td>1.7</td>\n",
       "    </tr>\n",
       "  </tbody>\n",
       "</table>\n",
       "<p>5 rows × 500 columns</p>\n",
       "</div>"
      ],
      "text/plain": [
       "rank     1      2      3      4      5      6      7      8      9      10   \\\n",
       "year                                                                          \n",
       "1955   806.0  584.8  195.4  212.6   19.1   18.5    1.6  182.8  183.8  344.4   \n",
       "1956  1189.5  709.3  437.0  370.1  100.1  200.9   22.9  180.2   10.1  431.6   \n",
       "1957   847.4  808.5  236.6  348.1  213.8  249.5   20.0   14.0   81.0  282.7   \n",
       "1958   843.6  805.2  282.8  419.4  247.9  120.0  220.4  354.3  191.0   13.5   \n",
       "1959   633.6  562.5   95.7  242.9  301.6  156.8  329.5   10.0  310.2   85.9   \n",
       "\n",
       "rank ...   491  492  493  494  495  496  497  498  499  500  \n",
       "year ...                                                     \n",
       "1955 ...   2.5  0.9  1.7  4.3  3.4  9.3  4.8  0.7 -2.7  0.9  \n",
       "1956 ...   1.3  6.1  9.6  7.0  5.0  3.8  2.2  2.2  2.3  2.9  \n",
       "1957 ...   0.6  1.7  4.6  5.8  1.4  1.4  7.2  4.8  6.0  5.7  \n",
       "1958 ...  -3.3  2.4  1.4  2.4  3.1  1.3  0.6  1.9  3.1  1.3  \n",
       "1959 ...   3.7  NaN  2.7  2.8  4.0  2.5  3.0  2.2 -5.0  1.7  \n",
       "\n",
       "[5 rows x 500 columns]"
      ]
     },
     "execution_count": 12,
     "metadata": {},
     "output_type": "execute_result"
    }
   ],
   "source": [
    "wide_comp = df.pivot_table(index = 'year', columns = 'rank', aggfunc = 'sum', values='profit')\n",
    "wide_comp.head()"
   ]
  },
  {
   "cell_type": "markdown",
   "metadata": {},
   "source": [
    "### Aggregating data "
   ]
  },
  {
   "cell_type": "code",
   "execution_count": 13,
   "metadata": {},
   "outputs": [
    {
     "data": {
      "text/plain": [
       "company\n",
       "CBS                       57\n",
       "OfficeMax                 55\n",
       "Merck                     51\n",
       "Marathon Oil              51\n",
       "Goodyear Tire & Rubber    51\n",
       "Name: year, dtype: int64"
      ]
     },
     "execution_count": 13,
     "metadata": {},
     "output_type": "execute_result"
    }
   ],
   "source": [
    "# How many times does each company appear?\n",
    "\n",
    "comp = df.groupby('company')['year'].count()\n",
    "comp = comp.sort_values(ascending = False)\n",
    "comp.head()"
   ]
  },
  {
   "cell_type": "code",
   "execution_count": null,
   "metadata": {
    "collapsed": true
   },
   "outputs": [],
   "source": [
    "## sum the total revenue for each company\n"
   ]
  },
  {
   "cell_type": "code",
   "execution_count": 15,
   "metadata": {
    "collapsed": true
   },
   "outputs": [],
   "source": [
    "# find the average profit made per year of all companies \n"
   ]
  },
  {
   "cell_type": "markdown",
   "metadata": {},
   "source": [
    "## Graphs "
   ]
  },
  {
   "cell_type": "code",
   "execution_count": 16,
   "metadata": {},
   "outputs": [
    {
     "data": {
      "image/png": "[encoded data removed]",
      "text/plain": [
       "<matplotlib.figure.Figure at 0xbfb5588>"
      ]
     },
     "metadata": {},
     "output_type": "display_data"
    }
   ],
   "source": [
    "# display results from average profit made per year of all companies in graph\n",
    "fig, ax = plt.subplots()\n",
    "avg_profit.plot(ax=ax, label='profit')\n",
    "plt.legend(loc='upper right')\n",
    "ax.set_title('Average profit per year for all Fortune 500 companies')\n",
    "display(fig)"
   ]
  },
  {
   "cell_type": "code",
   "execution_count": null,
   "metadata": {
    "collapsed": true
   },
   "outputs": [],
   "source": [
    "# create a bar chart for total revenue_usd per year from 1980 onwards\n"
   ]
  },
  {
   "cell_type": "markdown",
   "metadata": {},
   "source": [
    "## Dates"
   ]
  },
  {
   "cell_type": "code",
   "execution_count": null,
   "metadata": {
    "collapsed": true
   },
   "outputs": [],
   "source": [
    "# create a fake date \n",
    "df[\"date\"] = np.random.choice(pd.date_range('1980-01-01', '2000-01-01'), len(df))"
   ]
  },
  {
   "cell_type": "code",
   "execution_count": null,
   "metadata": {
    "collapsed": true
   },
   "outputs": [],
   "source": [
    "# to change date type to pandas date:\n",
    "df.date = pd.to_datetime(df.date)\n",
    "\n",
    "# create 1st month\n",
    "df['month'] = df.date.dt.to_period('M')"
   ]
  },
  {
   "cell_type": "markdown",
   "metadata": {},
   "source": [
    "# Part 2 - Modelling"
   ]
  },
  {
   "cell_type": "code",
   "execution_count": null,
   "metadata": {},
   "outputs": [],
   "source": [
    "from sklearn import tree\n",
    "from sklearn.svm import SVC \n",
    "\n",
    "# load the iris flower data set into pandas data frame\n",
    "irisdf = pd.read_csv(\"https://courses.cs.ut.ee/MTAT.03.227/2018_spring/uploads/Main/iris.csv\", header = None) \n",
    "\n",
    "# assign (new) column names \n",
    "irisdf.columns = [\"sepal_length\", \"sepal_width\", \"petal_length\", \"petal_width\", \"species\"]\n",
    "\n",
    "# remove rows that have NA’s \n",
    "irisdf = irisdf.dropna()\n",
    "\n",
    "irisdf.head()"
   ]
  },
  {
   "cell_type": "code",
   "execution_count": null,
   "metadata": {
    "collapsed": true
   },
   "outputs": [],
   "source": [
    "# next we can create our training and testing datasets with a train_test_split method \n",
    "# at the moment train set size will be 75% of the data and test set size 25% \n",
    "\n",
    "from sklearn.model_selection import train_test_split\n",
    "X_train, X_test, y_train, y_test = train_test_split(irisdf.drop([\"species\"], axis=1), \n",
    "                                                    irisdf.species, \n",
    "                                                    test_size=0.25, \n",
    "                                                    random_state=2)\n"
   ]
  },
  {
   "cell_type": "code",
   "execution_count": null,
   "metadata": {
    "collapsed": true
   },
   "outputs": [],
   "source": [
    "# Create the classifier\n",
    "decision_tree_classifier = tree.DecisionTreeClassifier()\n",
    "\n",
    "decision_tree_classifier.fit(X_train, y_train)\n",
    "print('Decision tree score:')\n",
    "print(decision_tree_classifier.score(X_test, y_test))\n",
    "\n",
    "# Create support vector classifier\n",
    "svc_classifier = SVC(kernel='rbf')\n",
    "svc_classifier.fit(X_train, y_train)\n",
    "print('SVC score:')\n",
    "print(svc_classifier.score(X_test, y_test))\n"
   ]
  },
  {
   "cell_type": "markdown",
   "metadata": {},
   "source": [
    "## Task: Estimate the profit for the fortune 500 companies given its year and rank"
   ]
  },
  {
   "cell_type": "code",
   "execution_count": null,
   "metadata": {
    "collapsed": true
   },
   "outputs": [],
   "source": [
    "# use the tutorial in the below link:\n",
    "# https://towardsdatascience.com/a-beginners-guide-to-linear-regression-in-python-with-scikit-learn-83a8f7ae2b4f\n",
    "# load required libraries \n",
    "\n",
    "from sklearn.linear_model import LinearRegression\n",
    "from sklearn.model_selection import train_test_split\n",
    "from sklearn import metrics\n",
    "\n",
    "lr = LinearRegression()\n",
    "\n",
    "# Data set of Fortune 500 companies spanning over 50 years since the list’s first publication in 1955, put together from Fortune’s public archive\n",
    "df = pd.read_csv('https://s3.amazonaws.com/dq-blog-files/fortune500.csv')\n",
    "\n"
   ]
  },
  {
   "cell_type": "code",
   "execution_count": null,
   "metadata": {
    "collapsed": true
   },
   "outputs": [],
   "source": [
    "# check data for missing values"
   ]
  },
  {
   "cell_type": "code",
   "execution_count": null,
   "metadata": {
    "collapsed": true
   },
   "outputs": [],
   "source": [
    "# create train and test data set using train_test_split"
   ]
  },
  {
   "cell_type": "code",
   "execution_count": null,
   "metadata": {
    "collapsed": true
   },
   "outputs": [],
   "source": [
    "# train the algorithm"
   ]
  },
  {
   "cell_type": "code",
   "execution_count": null,
   "metadata": {
    "collapsed": true
   },
   "outputs": [],
   "source": [
    "# make predictions & compare output values for X_test with predicted values"
   ]
  },
  {
   "cell_type": "code",
   "execution_count": null,
   "metadata": {
    "collapsed": true
   },
   "outputs": [],
   "source": [
    "# evaluate performance of the model(MAE, RMSE, R2)\n",
    "calc_r2 = np.round(r2_score(x.y_test, x.y_pred), 2)\n",
    "calc_mae = np.round(mean_absolute_error(x.y_test, x.y_pred), 2)\n",
    "calc_rmse = np.round(np.sqrt(mean_squared_error(x.y_test, x.y_pred)), 2)"
   ]
  }
 ],
 "metadata": {
  "kernelspec": {
   "display_name": "Python 3",
   "language": "python",
   "name": "python3"
  },
  "language_info": {
   "codemirror_mode": {
    "name": "ipython",
    "version": 3
   },
   "file_extension": ".py",
   "mimetype": "text/x-python",
   "name": "python",
   "nbconvert_exporter": "python",
   "pygments_lexer": "ipython3",
   "version": "3.6.3"
  }
 },
 "nbformat": 4,
 "nbformat_minor": 2
}
